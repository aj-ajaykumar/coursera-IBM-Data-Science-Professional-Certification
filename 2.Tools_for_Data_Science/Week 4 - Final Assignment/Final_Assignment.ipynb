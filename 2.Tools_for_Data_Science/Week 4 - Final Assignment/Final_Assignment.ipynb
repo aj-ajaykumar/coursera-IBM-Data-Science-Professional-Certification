{
 "cells": [
  {
   "cell_type": "markdown",
   "id": "da76f7f0",
   "metadata": {},
   "source": [
    "# My Jupyter Notebook on IBM Watson Studio"
   ]
  },
  {
   "cell_type": "markdown",
   "id": "3fb12c7f",
   "metadata": {},
   "source": [
    "**Ajay Kumar Nalli** \n",
    "\n",
    "Data Science Enthusiast"
   ]
  },
  {
   "cell_type": "markdown",
   "id": "0e53788a",
   "metadata": {},
   "source": [
    "*I am interested in Data Science because I would love to contribute towards affordable and quality healthcare in the future*"
   ]
  },
  {
   "cell_type": "markdown",
   "id": "1eb77575",
   "metadata": {},
   "source": [
    "### The below should print 'Hello World'"
   ]
  },
  {
   "cell_type": "code",
   "execution_count": 2,
   "id": "366a51d0",
   "metadata": {},
   "outputs": [
    {
     "name": "stdout",
     "output_type": "stream",
     "text": [
      "helllo Data Science World...!\n"
     ]
    }
   ],
   "source": [
    "print(\"helllo Data Science World...!\")\n"
   ]
  },
  {
   "cell_type": "markdown",
   "id": "7a6622af",
   "metadata": {},
   "source": [
    "***"
   ]
  },
  {
   "cell_type": "markdown",
   "id": "9d2f9f98",
   "metadata": {},
   "source": [
    "-  hello\n",
    "-  welcome \n",
    "-  to data science course"
   ]
  },
  {
   "cell_type": "markdown",
   "id": "7744c14d",
   "metadata": {},
   "source": [
    "go to my github           __[myGithub]('https://github.com/aj-ajaykumar')__"
   ]
  },
  {
   "cell_type": "markdown",
   "id": "b6df5e70",
   "metadata": {},
   "source": [
    "~this is a stricked line text~"
   ]
  },
  {
   "cell_type": "markdown",
   "id": "be9ae9b8",
   "metadata": {},
   "source": [
    "1 ajay kumar\n",
    "\n",
    "    1 sub heading\n",
    "    2 thank you"
   ]
  },
  {
   "cell_type": "code",
   "execution_count": null,
   "id": "f2fc0c20",
   "metadata": {},
   "outputs": [],
   "source": []
  }
 ],
 "metadata": {
  "kernelspec": {
   "display_name": "Python 3 (ipykernel)",
   "language": "python",
   "name": "python3"
  },
  "language_info": {
   "codemirror_mode": {
    "name": "ipython",
    "version": 3
   },
   "file_extension": ".py",
   "mimetype": "text/x-python",
   "name": "python",
   "nbconvert_exporter": "python",
   "pygments_lexer": "ipython3",
   "version": "3.7.9"
  }
 },
 "nbformat": 4,
 "nbformat_minor": 5
}
